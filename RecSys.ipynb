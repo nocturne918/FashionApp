{
 "cells": [
  {
   "cell_type": "markdown",
   "id": "348a0f28",
   "metadata": {},
   "source": [
    "# Reccomendation System Testing"
   ]
  },
  {
   "cell_type": "code",
   "execution_count": 10,
   "id": "0451d155",
   "metadata": {},
   "outputs": [
    {
     "name": "stdout",
     "output_type": "stream",
     "text": [
      "\n",
      "--- Recommended Items ---\n",
      "\n",
      "4 | Blue Jeans | denim everyday casual | Similarity: 0.786\n",
      "1 | Black T-Shirt | casual cotton minimal | Similarity: 0.301\n",
      "2 | White Hoodie | winter streetwear cozy | Similarity: 0.000\n",
      "3 | Denim Jacket | outerwear classic blue | Similarity: 0.000\n"
     ]
    }
   ],
   "source": [
    "import pandas as pd\n",
    "from sklearn.feature_extraction.text import TfidfVectorizer\n",
    "from sklearn.metrics.pairwise import cosine_similarity\n",
    "\n",
    "# Fashion items\n",
    "data = [\n",
    "    {\"id\": 1, \"name\": \"Black T-Shirt\", \"tags\": \"casual cotton minimal\"},\n",
    "    {\"id\": 2, \"name\": \"White Hoodie\", \"tags\": \"winter streetwear cozy\"},\n",
    "    {\"id\": 3, \"name\": \"Denim Jacket\", \"tags\": \"outerwear classic blue\"},\n",
    "    {\"id\": 4, \"name\": \"Blue Jeans\", \"tags\": \"denim everyday casual\"},\n",
    "]\n",
    "\n",
    "df = pd.DataFrame(data)\n",
    "\n",
    "# TF–IDF vectorization\n",
    "vectorizer = TfidfVectorizer()\n",
    "tfidf_matrix = vectorizer.fit_transform(df[\"tags\"])\n",
    "\n",
    "# Query\n",
    "query = [\"casual denim\"]\n",
    "query_vec = vectorizer.transform(query)\n",
    "\n",
    "# Similarity scores\n",
    "sims = cosine_similarity(query_vec, tfidf_matrix)[0]\n",
    "df[\"similarity\"] = sims\n",
    "\n",
    "# Sort results\n",
    "results = df.sort_values(\"similarity\", ascending=False)\n",
    "\n",
    "# Clean formatted print\n",
    "print(\"\\n--- Recommended Items ---\\n\")\n",
    "for _, row in results.iterrows():\n",
    "    print(f\"{row['id']} | {row['name']} | {row['tags']} | Similarity: {row['similarity']:.3f}\")\n"
   ]
  },
  {
   "cell_type": "markdown",
   "id": "f2c5df82",
   "metadata": {},
   "source": []
  },
  {
   "cell_type": "code",
   "execution_count": null,
   "id": "cdf8d440",
   "metadata": {},
   "outputs": [
    {
     "name": "stdout",
     "output_type": "stream",
     "text": [
      "[[0.5, 0.4, 40]]\n",
      "\n",
      "\n",
      "--- Recommended Items ---\n",
      "\n",
      "1 | Black T-Shirt | Price: $15 | Similarity: -0.634\n",
      "4 | Blue Jeans | Price: $40 | Similarity: 0.015\n",
      "2 | White Hoodie | Price: $45 | Similarity: 0.181\n",
      "3 | Denim Jacket | Price: $60 | Similarity: 0.683\n"
     ]
    }
   ],
   "source": [
    "import pandas as pd\n",
    "from sklearn.preprocessing import StandardScaler\n",
    "from sklearn.metrics.pairwise import cosine_similarity\n",
    "\n",
    "df = pd.DataFrame([\n",
    "    {\"id\": 1, \"name\": \"Black T-Shirt\", \"color_darkness\": 0.9, \"formality\": 0.2, \"price\": 15},\n",
    "    {\"id\": 2, \"name\": \"White Hoodie\", \"color_darkness\": 0.1, \"formality\": 0.3, \"price\": 45},\n",
    "    {\"id\": 3, \"name\": \"Denim Jacket\", \"color_darkness\": 0.5, \"formality\": 0.5, \"price\": 60},\n",
    "    {\"id\": 4, \"name\": \"Blue Jeans\", \"color_darkness\": 0.6, \"formality\": 0.4, \"price\": 40},\n",
    "])\n",
    "\n",
    "# Normalize numeric features\n",
    "scaler = StandardScaler()\n",
    "features = scaler.fit_transform(df[[\"color_darkness\", \"formality\", \"price\"]])\n",
    "\n",
    "# Query: prefer medium-dark, semi-casual, affordable\n",
    "query = [[0.5, 0.4, 40]]\n",
    "sims = cosine_similarity(query, features)[0]\n",
    "df[\"similarity\"] = sims\n",
    "\n",
    "# Sort and print\n",
    "results = df.sort_values(\"similarity\", ascending=False)\n",
    "print(f\"{query}\\n\")\n",
    "print(\"\\n--- Recommended Items ---\\n\")\n",
    "for _, row in results.iterrows():\n",
    "    print(f\"{row['id']} | {row['name']} | Price: ${row['price']} | Similarity: {row['similarity']:.3f}\")\n"
   ]
  },
  {
   "cell_type": "markdown",
   "id": "c6bc6e16",
   "metadata": {},
   "source": [
    "# Netflix recommendation style - Matrix Factorization"
   ]
  },
  {
   "cell_type": "code",
   "execution_count": null,
   "id": "8d86f884",
   "metadata": {},
   "outputs": [
    {
     "name": "stdout",
     "output_type": "stream",
     "text": [
      "\n",
      "User 1 Recommendations:\n",
      "\n",
      "\n",
      "--- Recommended Items ---\n",
      "\n",
      "1 | Black T-Shirt | Similarity: 0.998\n",
      "3 | Denim Jacket | Similarity: 0.998\n",
      "2 | White Hoodie | Similarity: 0.254\n",
      "4 | Blue Jeans | Similarity: 0.060\n"
     ]
    }
   ],
   "source": [
    "import numpy as np\n",
    "import pandas as pd\n",
    "from sklearn.decomposition import NMF\n",
    "from sklearn.preprocessing import MinMaxScaler\n",
    "from sklearn.metrics.pairwise import cosine_similarity\n",
    "from scipy.sparse import csr_matrix\n",
    "\n",
    "# Sample user-item ratings\n",
    "ratings_data = [\n",
    "    {\"user_id\": 1, \"item_id\": 1, \"rating\": 5},\n",
    "    {\"user_id\": 1, \"item_id\": 2, \"rating\": 3},\n",
    "    {\"user_id\": 1, \"item_id\": 3, \"rating\": 4},\n",
    "    {\"user_id\": 2, \"item_id\": 1, \"rating\": 4},\n",
    "    {\"user_id\": 2, \"item_id\": 3, \"rating\": 5},\n",
    "    {\"user_id\": 2, \"item_id\": 4, \"rating\": 2},\n",
    "    {\"user_id\": 3, \"item_id\" : 2, \"rating\": 4},\n",
    "    {\"user_id\": 3, \"item_id\": 4, \"rating\": 5},\n",
    "]\n",
    "ratings_df = pd.DataFrame(ratings_data)\n",
    "items_df = pd.DataFrame([\n",
    "    {\"item_id\": 1, \"name\": \"Black T-Shirt\"},\n",
    "    {\"item_id\": 2, \"name\": \"White Hoodie\"},\n",
    "    {\"item_id\": 3, \"name\": \"Denim Jacket\"},\n",
    "    {\"item_id\": 4, \"name\": \"Blue Jeans\"},\n",
    "])\n",
    "# Create user-item matrix\n",
    "user_item_matrix = ratings_df.pivot(index='user_id', columns='item_id', values='rating').fillna(0)\n",
    "sparse_matrix = csr_matrix(user_item_matrix.values)\n",
    "# Apply NMF\n",
    "nmf = NMF(n_components=2, init='random', random_state=42)\n",
    "user_features = nmf.fit_transform(sparse_matrix)\n",
    "item_features = nmf.components_.T\n",
    "# Normalize features\n",
    "scaler = MinMaxScaler()\n",
    "user_features = scaler.fit_transform(user_features)\n",
    "item_features = scaler.fit_transform(item_features)\n",
    "# Recommend for user_id=1\n",
    "user_id = 1\n",
    "user_idx = user_id - 1\n",
    "user_vec = user_features[user_idx].reshape(1, -1)\n",
    "sims = cosine_similarity(user_vec, item_features)[0]\n",
    "items_df[\"similarity\"] = sims\n",
    "results = items_df.sort_values(\"similarity\", ascending=False)\n",
    "# Print results\n",
    "print(f\"\\nUser {user_id} Recommendations:\\n\")\n",
    "print(\"\\n--- Recommended Items ---\\n\")\n",
    "for _, row in results.iterrows():\n",
    "    print(f\"{row['item_id']} | {row['name']} | Similarity: {row['similarity']:.3f}\")\n",
    "    \n"
   ]
  }
 ],
 "metadata": {
  "kernelspec": {
   "display_name": ".venv",
   "language": "python",
   "name": "python3"
  },
  "language_info": {
   "codemirror_mode": {
    "name": "ipython",
    "version": 3
   },
   "file_extension": ".py",
   "mimetype": "text/x-python",
   "name": "python",
   "nbconvert_exporter": "python",
   "pygments_lexer": "ipython3",
   "version": "3.13.5"
  }
 },
 "nbformat": 4,
 "nbformat_minor": 5
}
